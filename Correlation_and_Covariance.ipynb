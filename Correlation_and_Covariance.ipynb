{
  "cells": [
    {
      "cell_type": "markdown",
      "metadata": {
        "id": "view-in-github",
        "colab_type": "text"
      },
      "source": [
        "<a href=\"https://colab.research.google.com/github/SueYavuz/statistic/blob/main/Correlation_and_Covariance.ipynb\" target=\"_parent\"><img src=\"https://colab.research.google.com/assets/colab-badge.svg\" alt=\"Open In Colab\"/></a>"
      ]
    },
    {
      "cell_type": "markdown",
      "source": [
        "# **Pandas Correlation Calculation**"
      ],
      "metadata": {
        "id": "Qk3kdq_1PC1X"
      },
      "id": "Qk3kdq_1PC1X"
    },
    {
      "cell_type": "markdown",
      "source": [
        "example"
      ],
      "metadata": {
        "id": "zAiDVjLQP9ir"
      },
      "id": "zAiDVjLQP9ir"
    },
    {
      "cell_type": "code",
      "source": [
        "import pandas as pd\n",
        "x = pd.Series(range(10, 20))\n",
        "y = pd.Series([2, 1, 4, 5, 8, 12, 18, 25, 96, 48])"
      ],
      "metadata": {
        "id": "zNFbSotTPIsw"
      },
      "id": "zNFbSotTPIsw",
      "execution_count": 8,
      "outputs": []
    },
    {
      "cell_type": "markdown",
      "source": [
        "Call the relevant method to calculate Pearson's r correlation."
      ],
      "metadata": {
        "id": "nZ-S6ZQ9Piwv"
      },
      "id": "nZ-S6ZQ9Piwv"
    },
    {
      "cell_type": "code",
      "source": [
        "from scipy import stats\n",
        "r= stats.pearsonr(x,y)\n",
        "r"
      ],
      "metadata": {
        "colab": {
          "base_uri": "https://localhost:8080/"
        },
        "id": "FARVy1AjPbnJ",
        "outputId": "615a7bfb-1d1e-4e16-f35d-eaa2aba09773"
      },
      "id": "FARVy1AjPbnJ",
      "execution_count": 9,
      "outputs": [
        {
          "output_type": "execute_result",
          "data": {
            "text/plain": [
              "(0.758640289091187, 0.010964341301680813)"
            ]
          },
          "metadata": {},
          "execution_count": 9
        }
      ]
    },
    {
      "cell_type": "markdown",
      "source": [
        "Call the relevant method to calculate **Spearman's rho correlation**."
      ],
      "metadata": {
        "id": "emx0w_LXP1ZL"
      },
      "id": "emx0w_LXP1ZL"
    },
    {
      "cell_type": "code",
      "source": [
        "rho = stats.spearmanr(x,y)\n",
        "rho"
      ],
      "metadata": {
        "colab": {
          "base_uri": "https://localhost:8080/"
        },
        "id": "BtvnX_FyPbqm",
        "outputId": "4d4ee340-7387-4e40-d19c-6d6fa3087d52"
      },
      "id": "BtvnX_FyPbqm",
      "execution_count": 10,
      "outputs": [
        {
          "output_type": "execute_result",
          "data": {
            "text/plain": [
              "SpearmanrResult(correlation=0.9757575757575757, pvalue=1.4675461874042197e-06)"
            ]
          },
          "metadata": {},
          "execution_count": 10
        }
      ]
    },
    {
      "cell_type": "markdown",
      "source": [
        "example"
      ],
      "metadata": {
        "id": "9ofLe5WKQC2K"
      },
      "id": "9ofLe5WKQC2K"
    },
    {
      "cell_type": "code",
      "execution_count": null,
      "id": "4c7201b7",
      "metadata": {
        "id": "4c7201b7",
        "outputId": "8abb9b08-09f7-4626-efb7-12db5899686d"
      },
      "outputs": [
        {
          "name": "stdout",
          "output_type": "stream",
          "text": [
            "correlation coefficient and p-value:  (0.9087693361896165, 0.012104893069677013)\n"
          ]
        }
      ],
      "source": [
        "#with scipy library\n",
        "from scipy import stats\n",
        "\n",
        "print(\"correlation coefficient and p-value: \", stats.pearsonr(temp, number_of_people))"
      ]
    },
    {
      "cell_type": "markdown",
      "source": [
        "# **NumPy Correlation Calculation**\n",
        "Create an array x of integers between 10 (inclusive) and 20 (exclusive). Use np.arange()\n",
        "\n"
      ],
      "metadata": {
        "id": "RTwsKZL9Hp_Y"
      },
      "id": "RTwsKZL9Hp_Y"
    },
    {
      "cell_type": "code",
      "execution_count": 2,
      "id": "4a8c313b",
      "metadata": {
        "colab": {
          "base_uri": "https://localhost:8080/"
        },
        "id": "4a8c313b",
        "outputId": "d04f88d0-9ad8-458c-b47c-5f71e1d3cdce"
      },
      "outputs": [
        {
          "output_type": "execute_result",
          "data": {
            "text/plain": [
              "array([10, 11, 12, 13, 14, 15, 16, 17, 18, 19])"
            ]
          },
          "metadata": {},
          "execution_count": 2
        }
      ],
      "source": [
        "import numpy as np\n",
        "\n",
        "x = np.arange(10,20)\n",
        "x"
      ]
    },
    {
      "cell_type": "markdown",
      "source": [
        "Then use np.array() to create a second array y containing 10 arbitrary integers."
      ],
      "metadata": {
        "id": "1qOPQRGwIEun"
      },
      "id": "1qOPQRGwIEun"
    },
    {
      "cell_type": "code",
      "source": [
        "y = np.array([0,1,2,3,4,5,6,7,8,9])\n",
        "y"
      ],
      "metadata": {
        "colab": {
          "base_uri": "https://localhost:8080/"
        },
        "id": "bZztYEu8H328",
        "outputId": "4bfd60e5-0bc3-4728-e4f2-44f6c98d0970"
      },
      "id": "bZztYEu8H328",
      "execution_count": 3,
      "outputs": [
        {
          "output_type": "execute_result",
          "data": {
            "text/plain": [
              "array([0, 1, 2, 3, 4, 5, 6, 7, 8, 9])"
            ]
          },
          "metadata": {},
          "execution_count": 3
        }
      ]
    },
    {
      "cell_type": "markdown",
      "source": [
        "Once you have two arrays of the same length, you can compute the **correlation coefficient** between x and y"
      ],
      "metadata": {
        "id": "4EcIxus8IMY5"
      },
      "id": "4EcIxus8IMY5"
    },
    {
      "cell_type": "code",
      "source": [
        "r = np.corrcoef(x,y)\n",
        "r"
      ],
      "metadata": {
        "colab": {
          "base_uri": "https://localhost:8080/"
        },
        "id": "dMtFwEoxIIXX",
        "outputId": "1e28cd5b-1a51-4872-f8ab-d717a26d8ef9"
      },
      "id": "dMtFwEoxIIXX",
      "execution_count": 12,
      "outputs": [
        {
          "output_type": "execute_result",
          "data": {
            "text/plain": [
              "array([[1.        , 0.75864029],\n",
              "       [0.75864029, 1.        ]])"
            ]
          },
          "metadata": {},
          "execution_count": 12
        }
      ]
    },
    {
      "cell_type": "markdown",
      "source": [
        "example"
      ],
      "metadata": {
        "id": "WU9EuyQQRJOX"
      },
      "id": "WU9EuyQQRJOX"
    },
    {
      "cell_type": "code",
      "source": [
        "temp=[93,84,82,78,98,70]\n",
        "\n",
        "number_of_people=[13,10, 11, 8, 15, 9]\n",
        "\n",
        "print(\"covariance: \", np.cov(temp, number_of_people))"
      ],
      "metadata": {
        "colab": {
          "base_uri": "https://localhost:8080/"
        },
        "id": "UJdOMsDOIQbo",
        "outputId": "27217beb-e9e2-4786-9280-6f80ee7123b3"
      },
      "id": "UJdOMsDOIQbo",
      "execution_count": 16,
      "outputs": [
        {
          "output_type": "stream",
          "name": "stdout",
          "text": [
            "covariance:  [[102.56666667  24.        ]\n",
            " [ 24.           6.8       ]]\n"
          ]
        }
      ]
    },
    {
      "cell_type": "code",
      "source": [
        "print(\"correlation: \", np.corrcoef(temp, number_of_people))"
      ],
      "metadata": {
        "colab": {
          "base_uri": "https://localhost:8080/"
        },
        "id": "gge_1TkgRNsq",
        "outputId": "a99f5415-b8aa-48f7-c16e-41184d21a09e"
      },
      "id": "gge_1TkgRNsq",
      "execution_count": 17,
      "outputs": [
        {
          "output_type": "stream",
          "name": "stdout",
          "text": [
            "correlation:  [[1.         0.90876934]\n",
            " [0.90876934 1.        ]]\n"
          ]
        }
      ]
    }
  ],
  "metadata": {
    "kernelspec": {
      "display_name": "Python 3 (ipykernel)",
      "language": "python",
      "name": "python3"
    },
    "language_info": {
      "codemirror_mode": {
        "name": "ipython",
        "version": 3
      },
      "file_extension": ".py",
      "mimetype": "text/x-python",
      "name": "python",
      "nbconvert_exporter": "python",
      "pygments_lexer": "ipython3",
      "version": "3.9.7"
    },
    "colab": {
      "name": "Correlation and Covariance.ipynb",
      "provenance": [],
      "collapsed_sections": [],
      "include_colab_link": true
    }
  },
  "nbformat": 4,
  "nbformat_minor": 5
}