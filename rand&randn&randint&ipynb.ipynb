{
  "nbformat": 4,
  "nbformat_minor": 0,
  "metadata": {
    "colab": {
      "name": "rand&randn&randint&ipynb",
      "provenance": [],
      "collapsed_sections": [],
      "authorship_tag": "ABX9TyPHkKxd3iCK8+Ehxgznbr46",
      "include_colab_link": true
    },
    "kernelspec": {
      "name": "python3",
      "display_name": "Python 3"
    },
    "language_info": {
      "name": "python"
    }
  },
  "cells": [
    {
      "cell_type": "markdown",
      "metadata": {
        "id": "view-in-github",
        "colab_type": "text"
      },
      "source": [
        "<a href=\"https://colab.research.google.com/github/SueYavuz/statistic/blob/main/rand%26randn%26randint%26ipynb.ipynb\" target=\"_parent\"><img src=\"https://colab.research.google.com/assets/colab-badge.svg\" alt=\"Open In Colab\"/></a>"
      ]
    },
    {
      "cell_type": "markdown",
      "source": [
        "# **rand**\n",
        "#random samples from a uniform distribution over [0,1)\n",
        "#0-1 arasinda sayi uretir"
      ],
      "metadata": {
        "id": "BQiLOhO3ue_p"
      }
    },
    {
      "cell_type": "code",
      "execution_count": 2,
      "metadata": {
        "colab": {
          "base_uri": "https://localhost:8080/"
        },
        "id": "33zU2zm3tt2i",
        "outputId": "f7e16f08-ee69-4b32-dee7-31f4f77f07dd"
      },
      "outputs": [
        {
          "output_type": "execute_result",
          "data": {
            "text/plain": [
              "array([0.08835417, 0.62220715])"
            ]
          },
          "metadata": {},
          "execution_count": 2
        }
      ],
      "source": [
        "import numpy as np\n",
        "np.random.rand(2)\n"
      ]
    },
    {
      "cell_type": "code",
      "source": [
        "np.random.rand(5,5)"
      ],
      "metadata": {
        "colab": {
          "base_uri": "https://localhost:8080/"
        },
        "id": "K_O6uI-NudG7",
        "outputId": "d1b49b8a-33fe-48f1-e0c0-a8722524ccdd"
      },
      "execution_count": 3,
      "outputs": [
        {
          "output_type": "execute_result",
          "data": {
            "text/plain": [
              "array([[0.6384829 , 0.83278681, 0.4509732 , 0.20731335, 0.95440877],\n",
              "       [0.07685968, 0.31846711, 0.49897078, 0.36529794, 0.77374038],\n",
              "       [0.5984922 , 0.28201366, 0.91005142, 0.06605403, 0.73204701],\n",
              "       [0.84351323, 0.13095111, 0.18064405, 0.46567764, 0.96246999],\n",
              "       [0.4374061 , 0.08488099, 0.47372223, 0.64261031, 0.59937527]])"
            ]
          },
          "metadata": {},
          "execution_count": 3
        }
      ]
    },
    {
      "cell_type": "code",
      "source": [
        "#uniform yapiyi gormek icin \n",
        "#bins aralik demek \n",
        "import matplotlib.pyplot as plt\n",
        "%matplotlib inline\n",
        "\n",
        "plt.hist(np.random.rand(555555),bins=40)\n",
        "plt.show();"
      ],
      "metadata": {
        "colab": {
          "base_uri": "https://localhost:8080/",
          "height": 265
        },
        "id": "ChC8CGiivpc4",
        "outputId": "e78d60a1-1275-4abb-b825-7b89bbe3ea0b"
      },
      "execution_count": 4,
      "outputs": [
        {
          "output_type": "display_data",
          "data": {
            "text/plain": [
              "<Figure size 432x288 with 1 Axes>"
            ],
            "image/png": "[encoded data removed]"
          },
          "metadata": {
            "needs_background": "light"
          }
        }
      ]
    },
    {
      "cell_type": "markdown",
      "source": [
        "# **randn**\n",
        "'standart normal' distribution"
      ],
      "metadata": {
        "id": "4mcKqJRqvxOv"
      }
    },
    {
      "cell_type": "code",
      "source": [
        "np.random.randn(2)"
      ],
      "metadata": {
        "colab": {
          "base_uri": "https://localhost:8080/"
        },
        "id": "rCStIzhjvs_a",
        "outputId": "31525abf-411a-4947-e5dd-f4a8f89c118c"
      },
      "execution_count": 5,
      "outputs": [
        {
          "output_type": "execute_result",
          "data": {
            "text/plain": [
              "array([ 1.17234657, -0.38192458])"
            ]
          },
          "metadata": {},
          "execution_count": 5
        }
      ]
    },
    {
      "cell_type": "code",
      "source": [
        "np.random.randn(5,5)"
      ],
      "metadata": {
        "colab": {
          "base_uri": "https://localhost:8080/"
        },
        "id": "XDrzyK22v5ks",
        "outputId": "80e8c451-6dc5-440b-f08f-dfbde63dd7dc"
      },
      "execution_count": 6,
      "outputs": [
        {
          "output_type": "execute_result",
          "data": {
            "text/plain": [
              "array([[ 1.22636072,  0.4360002 , -0.44029236,  1.38489998,  0.06963733],\n",
              "       [-1.22429021, -1.7378782 ,  0.73566422, -0.07143995,  0.47156526],\n",
              "       [-1.25681177, -0.6164763 , -0.01699441,  0.43454765, -1.42787321],\n",
              "       [-1.0695607 ,  0.84446085,  0.01501122, -0.63025848, -0.78534237],\n",
              "       [-1.38943533,  0.68718722,  1.05496237, -0.78526854, -0.12563804]])"
            ]
          },
          "metadata": {},
          "execution_count": 6
        }
      ]
    },
    {
      "cell_type": "code",
      "source": [
        "plt.hist(np.random.rand(5555),bins=40)\n",
        "plt.show()"
      ],
      "metadata": {
        "colab": {
          "base_uri": "https://localhost:8080/",
          "height": 265
        },
        "id": "_VwC_TB1v7hs",
        "outputId": "d85873d7-2372-433a-d705-e8b5c3c4b399"
      },
      "execution_count": 7,
      "outputs": [
        {
          "output_type": "display_data",
          "data": {
            "text/plain": [
              "<Figure size 432x288 with 1 Axes>"
            ],
            "image/png": "[encoded data removed]"
          },
          "metadata": {
            "needs_background": "light"
          }
        }
      ]
    },
    {
      "cell_type": "markdown",
      "source": [
        "## **randit**\n",
        "(low,high,size,dtype)"
      ],
      "metadata": {
        "id": "ntCTK54ewBZa"
      }
    },
    {
      "cell_type": "code",
      "source": [
        "np.random.randint(10)"
      ],
      "metadata": {
        "colab": {
          "base_uri": "https://localhost:8080/"
        },
        "id": "9VA2hGAGv9wc",
        "outputId": "cbef8c41-5f9b-4975-f391-d834d83fae35"
      },
      "execution_count": 8,
      "outputs": [
        {
          "output_type": "execute_result",
          "data": {
            "text/plain": [
              "6"
            ]
          },
          "metadata": {},
          "execution_count": 8
        }
      ]
    },
    {
      "cell_type": "code",
      "source": [
        "np.random.randint(0,100)"
      ],
      "metadata": {
        "colab": {
          "base_uri": "https://localhost:8080/"
        },
        "id": "V6raXRVewHS7",
        "outputId": "6594dbb6-9071-4988-880b-caa96891ad7c"
      },
      "execution_count": 9,
      "outputs": [
        {
          "output_type": "execute_result",
          "data": {
            "text/plain": [
              "81"
            ]
          },
          "metadata": {},
          "execution_count": 9
        }
      ]
    },
    {
      "cell_type": "code",
      "source": [
        "np.random.randint(0,100,10)"
      ],
      "metadata": {
        "colab": {
          "base_uri": "https://localhost:8080/"
        },
        "id": "OdIE7C_SwJg7",
        "outputId": "6907a037-fab7-4184-e8e5-142266dfc906"
      },
      "execution_count": 10,
      "outputs": [
        {
          "output_type": "execute_result",
          "data": {
            "text/plain": [
              "array([53, 60, 54, 78, 63, 61, 92, 47, 35, 29])"
            ]
          },
          "metadata": {},
          "execution_count": 10
        }
      ]
    },
    {
      "cell_type": "code",
      "source": [
        "np.random.randint(1,[3,50,100])"
      ],
      "metadata": {
        "colab": {
          "base_uri": "https://localhost:8080/"
        },
        "id": "jYYxhaJPwLqL",
        "outputId": "6642d866-1ac8-4935-8c44-04bb955474cb"
      },
      "execution_count": 11,
      "outputs": [
        {
          "output_type": "execute_result",
          "data": {
            "text/plain": [
              "array([ 1, 36, 64])"
            ]
          },
          "metadata": {},
          "execution_count": 11
        }
      ]
    },
    {
      "cell_type": "code",
      "source": [
        "np.random.randint(1,[3,50,100],size=(5,3))"
      ],
      "metadata": {
        "colab": {
          "base_uri": "https://localhost:8080/"
        },
        "id": "JdK2ALVxwOGO",
        "outputId": "8e1a055f-6650-45cb-b4eb-6ababd04f9a9"
      },
      "execution_count": 12,
      "outputs": [
        {
          "output_type": "execute_result",
          "data": {
            "text/plain": [
              "array([[ 2, 27, 13],\n",
              "       [ 2, 25, 84],\n",
              "       [ 2,  3, 19],\n",
              "       [ 1, 21,  6],\n",
              "       [ 2, 27, 43]])"
            ]
          },
          "metadata": {},
          "execution_count": 12
        }
      ]
    },
    {
      "cell_type": "code",
      "source": [
        ""
      ],
      "metadata": {
        "id": "_k31x9OjwQRz"
      },
      "execution_count": null,
      "outputs": []
    }
  ]
}